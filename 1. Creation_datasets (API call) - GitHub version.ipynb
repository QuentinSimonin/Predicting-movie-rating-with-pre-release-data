{
 "cells": [
  {
   "cell_type": "raw",
   "id": "b38c72f5",
   "metadata": {},
   "source": [
    "This first notebook was used to collect data from the TMDB APIs "
   ]
  },
  {
   "cell_type": "code",
   "execution_count": null,
   "id": "cfe22f9b",
   "metadata": {},
   "outputs": [],
   "source": [
    "#!pip install requests"
   ]
  },
  {
   "cell_type": "code",
   "execution_count": 2,
   "id": "8e4c8052",
   "metadata": {
    "ExecuteTime": {
     "end_time": "2023-10-07T14:41:09.952546Z",
     "start_time": "2023-10-07T14:41:08.142761Z"
    }
   },
   "outputs": [],
   "source": [
    "import pandas as pd"
   ]
  },
  {
   "cell_type": "markdown",
   "id": "0eb732fa",
   "metadata": {},
   "source": [
    "### Movies info "
   ]
  },
  {
   "cell_type": "raw",
   "id": "d39c1adc",
   "metadata": {},
   "source": [
    "This API is used to get basic information on the movies (genres, runtime, budget, ...)"
   ]
  },
  {
   "cell_type": "code",
   "execution_count": 1,
   "id": "7827c60f",
   "metadata": {
    "ExecuteTime": {
     "end_time": "2023-10-02T21:45:26.942810Z",
     "start_time": "2023-10-02T21:45:26.922897Z"
    }
   },
   "outputs": [],
   "source": [
    "# replace XXXX by an actual api_key available here: \n",
    "# https://developer.themoviedb.org/reference/intro/authentication#api-key-quick-start\n",
    "api_key=XXXX"
   ]
  },
  {
   "cell_type": "raw",
   "id": "64420d94",
   "metadata": {},
   "source": [
    "We need to load the list of ids used by TMDB to avoid too many mistakes and a long running time\n",
    "The list is available here: tmdb.org/p/exports/movie_ids_06_19_2023.json.gz\n",
    "This list is uptaded everyday. \n",
    "It is possible to modify the date in the url to find the most up-to-date list."
   ]
  },
  {
   "cell_type": "code",
   "execution_count": null,
   "id": "9284c372",
   "metadata": {},
   "outputs": [],
   "source": [
    "# Loading the list of ids\n",
    "id_list_csv = pd.read_csv(\"path of csv containing the list of ids\")\n",
    "id_list = list(id_list_csv['id'])\n",
    "id_list = [str(num) for num in id_list]"
   ]
  },
  {
   "cell_type": "code",
   "execution_count": null,
   "id": "a75451e9",
   "metadata": {},
   "outputs": [],
   "source": [
    "# Code to call the API and collect data\n",
    "\n",
    "import requests\n",
    "\n",
    "tmdb = pd.DataFrame()\n",
    "\n",
    "# empty lists to store movie attributes\n",
    "ids = []\n",
    "titles = []\n",
    "adults = []\n",
    "belongs_to_collection = []\n",
    "date = []\n",
    "budgets = []\n",
    "genres = []\n",
    "imdb = []\n",
    "language = []\n",
    "overview = []\n",
    "production = []\n",
    "country = []\n",
    "runtime = []\n",
    "status = []\n",
    "vote_count = []\n",
    "ratings = []\n",
    "\n",
    "# initialising the for loop\n",
    "for movie_id in id_list:\n",
    "    url = \"https://api.themoviedb.org/3/movie/\"+movie_id+\"?api_key=\"+api_key\n",
    "    response = requests.get(url)\n",
    "    tmdb_api = response.json()\n",
    "    \n",
    "    try:        \n",
    "        # extracting movie attributes from the API response\n",
    "        ids.append(tmdb_api['id'])\n",
    "        titles.append(tmdb_api['title'])\n",
    "        adults.append(tmdb_api['adult'])\n",
    "        belongs_to_collection.append(tmdb_api['belongs_to_collection'])\n",
    "        date.append(tmdb_api['release_date'])\n",
    "        budgets.append(tmdb_api['budget'])\n",
    "        genres.append(tmdb_api['genres'])\n",
    "        imdb.append(tmdb_api['imdb_id'])\n",
    "        language.append(tmdb_api['original_language'])\n",
    "        overview.append(tmdb_api['overview'])\n",
    "        production.append(tmdb_api['production_companies'])\n",
    "        country.append(tmdb_api['production_countries'])\n",
    "        runtime.append(tmdb_api['runtime'])\n",
    "        status.append(tmdb_api['status'])\n",
    "        vote_count.append(tmdb_api['vote_count'])\n",
    "        ratings.append(tmdb_api['vote_average'])\n",
    "        \n",
    "        # creating a dataframe using the extracted attributes\n",
    "        data = {\n",
    "            'id': ids,\n",
    "            'title': titles,\n",
    "            'adult': adults,\n",
    "            'belongs_to_collection': belongs_to_collection,\n",
    "            'release_date': date,\n",
    "            'budget': budgets,\n",
    "            'genres': genres,\n",
    "            'imdb_id': imdb,\n",
    "            'language': language,\n",
    "            'overview': overview,\n",
    "            'production_companies': production,\n",
    "            'country': country,\n",
    "            'runtime': runtime,\n",
    "            'status': status,\n",
    "            'vote_count': vote_count,\n",
    "            'rating': ratings\n",
    "        }\n",
    "\n",
    "        tmdb_df = pd.DataFrame(data)\n",
    "        \n",
    "    except Exception as e:\n",
    "        print(f\"Error occurred for id: {movie_id}\") # in case of error, a message will appear to specify the id concerned"
   ]
  },
  {
   "cell_type": "code",
   "execution_count": null,
   "id": "fe6f0242",
   "metadata": {},
   "outputs": [],
   "source": [
    "# change to remove potential skip to line\n",
    "tmdb_df['overview'] = tmdb_df['overview'].str.replace('\\r', '')\n",
    "tmdb_df['overview'] = tmdb_df['overview'].str.replace('\\n', '')\n",
    "tmdb_df['overview'] = tmdb_df['overview'].str.replace(';', '')\n",
    "tmdb_df['overview'] = tmdb_df['overview'].str.replace('&amp', '')\n",
    "tmdb_df['overview'] = tmdb_df['overview'].str.replace('\\u2029', '')\n",
    "tmdb_df['overview'] = tmdb_df['overview'].str.replace('\\u2028', '')\n",
    "\n",
    "# UTF-8 change to give meaning to overview\n",
    "from unidecode import unidecode\n",
    "\n",
    "tmdb_df['title'] = tmdb_df['title'].apply(lambda x: unidecode(str(x)))\n",
    "tmdb_df['overview'] = tmdb_df['overview'].apply(lambda x: unidecode(str(x)))"
   ]
  },
  {
   "cell_type": "code",
   "execution_count": null,
   "id": "6c71d9a1",
   "metadata": {},
   "outputs": [],
   "source": [
    "tmdb_df.shape"
   ]
  },
  {
   "cell_type": "code",
   "execution_count": null,
   "id": "e44c7f7e",
   "metadata": {},
   "outputs": [],
   "source": [
    "# saving it in csv format to use it in the second notebook\n",
    "tmdb_df.to_csv(\"path where we want to save this csv\")"
   ]
  },
  {
   "cell_type": "markdown",
   "id": "1956618e",
   "metadata": {},
   "source": [
    "### Credits "
   ]
  },
  {
   "cell_type": "raw",
   "id": "15c50dc9",
   "metadata": {},
   "source": [
    "This API is used to get information on the credits (cast and crew members)"
   ]
  },
  {
   "cell_type": "code",
   "execution_count": 3,
   "id": "6737e515",
   "metadata": {
    "ExecuteTime": {
     "end_time": "2023-10-07T14:41:22.264985Z",
     "start_time": "2023-10-07T14:41:22.174460Z"
    }
   },
   "outputs": [],
   "source": [
    "# using the id from the csv created after the movie info API call \n",
    "tmdb_api = pd.read_csv('path where we saved the previous csv')\n",
    "id_list = list(tmdb_api['id'])\n",
    "id_list = [str(num) for num in id_list]"
   ]
  },
  {
   "cell_type": "code",
   "execution_count": 8,
   "id": "901d158d",
   "metadata": {
    "ExecuteTime": {
     "end_time": "2023-10-07T15:09:49.216726Z",
     "start_time": "2023-10-07T14:41:48.917487Z"
    }
   },
   "outputs": [],
   "source": [
    "# same code than for movie info but with a different url and only three variables extracted (id, cast, crew)\n",
    "\n",
    "import requests\n",
    "\n",
    "tmdb_credits = pd.DataFrame()\n",
    "\n",
    "ids = []\n",
    "casts = []\n",
    "crews = []\n",
    "\n",
    "for movie_id in id_list:\n",
    "    url = \"https://api.themoviedb.org/3/movie/\"+movie_id+\"/credits?api_key=\"+api_key\n",
    "    response = requests.get(url)\n",
    "    tmdb_api = response.json()\n",
    "    \n",
    "    try:        \n",
    "        # extracting credits (casts and crews)\n",
    "        ids.append(tmdb_api['id'])\n",
    "        casts.append(tmdb_api['cast'])\n",
    "        crews.append(tmdb_api['crew'])\n",
    "        \n",
    "        data = {\n",
    "            'id': ids,\n",
    "            'cast': casts,\n",
    "            'crew': crews,\n",
    "        }\n",
    "\n",
    "        tmdb_credits = pd.DataFrame(data)\n",
    "        \n",
    "    except Exception as e:\n",
    "        print(f\"Error occurred for id: {movie_id}\")"
   ]
  },
  {
   "cell_type": "code",
   "execution_count": 10,
   "id": "5c2a8ea8",
   "metadata": {
    "ExecuteTime": {
     "end_time": "2023-10-07T16:58:08.416497Z",
     "start_time": "2023-10-07T16:58:08.400870Z"
    }
   },
   "outputs": [
    {
     "data": {
      "text/plain": [
       "(8760, 3)"
      ]
     },
     "execution_count": 10,
     "metadata": {},
     "output_type": "execute_result"
    }
   ],
   "source": [
    "tmdb_credits.shape"
   ]
  },
  {
   "cell_type": "code",
   "execution_count": 11,
   "id": "95300ce8",
   "metadata": {
    "ExecuteTime": {
     "end_time": "2023-10-07T17:06:41.721399Z",
     "start_time": "2023-10-07T17:06:34.742965Z"
    }
   },
   "outputs": [],
   "source": [
    "tmdb_credits.to_csv(\"path where we want to save this csv\")"
   ]
  },
  {
   "cell_type": "markdown",
   "id": "a33bb807",
   "metadata": {},
   "source": [
    "### Content Ratings"
   ]
  },
  {
   "cell_type": "raw",
   "id": "31ddea6b",
   "metadata": {},
   "source": [
    "This API is used to the content rating of our movies (not in the first API results)\n",
    "The methods is exactly the same than for the 2 previous API calls"
   ]
  },
  {
   "cell_type": "code",
   "execution_count": 3,
   "id": "87b6acb3",
   "metadata": {
    "ExecuteTime": {
     "end_time": "2023-10-02T21:45:47.081404Z",
     "start_time": "2023-10-02T21:45:46.995676Z"
    }
   },
   "outputs": [],
   "source": [
    "tmdb_api_2 = pd.read_csv(\"path of csv containing the list of ids\")\n",
    "id_list = list(tmdb_api_2['id'])\n",
    "id_list = [str(num) for num in id_list]"
   ]
  },
  {
   "cell_type": "code",
   "execution_count": 6,
   "id": "ce8e6fb8",
   "metadata": {
    "ExecuteTime": {
     "end_time": "2023-10-02T22:15:30.187619Z",
     "start_time": "2023-10-02T21:46:10.314696Z"
    }
   },
   "outputs": [],
   "source": [
    "import requests\n",
    "\n",
    "content_ratings = pd.DataFrame()\n",
    "\n",
    "ids = []\n",
    "results = []\n",
    "\n",
    "for movie_id in id_list:\n",
    "    url = \"https://api.themoviedb.org/3/movie/\"+movie_id+\"/release_dates?api_key=\"+api_key\n",
    "    response = requests.get(url)\n",
    "    tmdb_api = response.json()\n",
    "    \n",
    "    try:        \n",
    "        ids.append(tmdb_api['id'])\n",
    "        results.append(tmdb_api['results'])\n",
    "\n",
    "        data = {\n",
    "            'id': ids,\n",
    "            'content_rating': results,\n",
    "        }\n",
    "\n",
    "        content_ratings = pd.DataFrame(data)\n",
    "        \n",
    "    except Exception as e:\n",
    "        print(f\"Error occurred for id: {movie_id}\")"
   ]
  },
  {
   "cell_type": "code",
   "execution_count": 7,
   "id": "80ffbab3",
   "metadata": {
    "ExecuteTime": {
     "end_time": "2023-10-02T22:15:31.122802Z",
     "start_time": "2023-10-02T22:15:30.190609Z"
    }
   },
   "outputs": [],
   "source": [
    "mpaa_ratings.to_csv(\"path where we want to save this csv\")"
   ]
  },
  {
   "cell_type": "markdown",
   "id": "3c870694",
   "metadata": {},
   "source": [
    "#### End of this first notebook. \n",
    "#### Building of the dataset using this three csv and pre-processing steps in the second notebook.  "
   ]
  }
 ],
 "metadata": {
  "kernelspec": {
   "display_name": "Python 3 (ipykernel)",
   "language": "python",
   "name": "python3"
  },
  "language_info": {
   "codemirror_mode": {
    "name": "ipython",
    "version": 3
   },
   "file_extension": ".py",
   "mimetype": "text/x-python",
   "name": "python",
   "nbconvert_exporter": "python",
   "pygments_lexer": "ipython3",
   "version": "3.9.12"
  }
 },
 "nbformat": 4,
 "nbformat_minor": 5
}
